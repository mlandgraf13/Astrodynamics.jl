{
 "metadata": {
  "language": "Julia",
  "name": ""
 },
 "nbformat": 3,
 "nbformat_minor": 0,
 "worksheets": [
  {
   "cells": [
    {
     "cell_type": "code",
     "collapsed": false,
     "input": [
      "addprocs(2);\n",
      "nprocs();"
     ],
     "language": "python",
     "metadata": {},
     "outputs": []
    },
    {
     "cell_type": "code",
     "collapsed": false,
     "input": [
      "nprocs()"
     ],
     "language": "python",
     "metadata": {},
     "outputs": [
      {
       "metadata": {},
       "output_type": "pyout",
       "prompt_number": 1,
       "text": [
        "3"
       ]
      }
     ],
     "prompt_number": 1
    },
    {
     "cell_type": "code",
     "collapsed": false,
     "input": [
      "A=rand(1000,1000);\n",
      "Bref=@spawn A^2;"
     ],
     "language": "python",
     "metadata": {},
     "outputs": [
      {
       "output_type": "stream",
       "stream": "stderr",
       "text": [
        "Warning: Possible conflict in library symbol dtrtri_\n"
       ]
      },
      {
       "output_type": "stream",
       "stream": "stderr",
       "text": [
        "Warning: Possible conflict in library symbol dgetri_\n",
        "Warning: Possible conflict in library symbol dgetrf_\n"
       ]
      }
     ],
     "prompt_number": 2
    },
    {
     "cell_type": "code",
     "collapsed": false,
     "input": [
      "@time fetch(Bref)"
     ],
     "language": "python",
     "metadata": {},
     "outputs": [
      {
       "output_type": "stream",
       "stream": "stdout",
       "text": [
        "elapsed time: 0."
       ]
      },
      {
       "output_type": "stream",
       "stream": "stdout",
       "text": [
        "233144093 seconds (26317892 bytes allocated)\n"
       ]
      },
      {
       "metadata": {},
       "output_type": "pyout",
       "prompt_number": 3,
       "text": [
        "1000x1000 Array{Float64,2}:\n",
        " 253.842  260.039  252.589  252.681  \u2026  250.426  250.565  261.033  264.203\n",
        " 257.608  261.664  257.715  263.374     256.909  253.252  264.185  263.635\n",
        " 245.815  251.82   251.412  252.766     250.02   254.843  255.098  253.469\n",
        " 254.198  255.355  251.751  251.783     252.996  245.0    257.658  258.153\n",
        " 245.218  250.742  247.568  252.068     241.107  247.169  250.741  253.678\n",
        " 243.999  246.163  248.652  248.436  \u2026  243.121  243.794  252.191  251.885\n",
        " 243.201  248.252  248.937  247.177     245.441  245.19   255.352  252.741\n",
        " 251.513  256.132  248.876  255.435     250.36   246.138  253.453  260.814\n",
        " 252.815  257.064  250.159  249.878     254.026  253.005  260.372  259.747\n",
        " 245.651  249.291  245.745  253.586     245.336  240.508  253.313  249.35 \n",
        " 252.825  258.057  251.883  243.868  \u2026  245.361  243.039  254.503  250.876\n",
        " 236.073  237.287  237.877  243.535     233.203  234.075  242.371  245.24 \n",
        " 249.026  257.755  249.458  244.895     251.277  247.891  254.13   257.82 \n",
        "   \u22ee                                 \u22f1                                    \n",
        " 252.505  259.126  252.259  254.436     250.459  251.712  262.014  257.658\n",
        " 246.905  253.425  249.685  252.223     241.386  245.24   253.118  255.973\n",
        " 255.823  256.614  254.432  255.078  \u2026  252.043  249.795  259.441  260.035\n",
        " 240.928  249.527  244.393  244.266     239.19   244.02   247.753  250.755\n",
        " 246.965  249.028  247.035  248.075     237.508  245.385  251.477  252.951\n",
        " 247.64   252.732  252.148  245.719     250.008  245.24   255.913  252.241\n",
        " 248.347  251.842  245.681  245.458     245.722  243.484  250.561  247.373\n",
        " 247.847  252.144  246.256  250.515  \u2026  244.978  243.855  255.166  249.044\n",
        " 256.39   260.233  258.473  252.638     251.231  251.249  270.146  261.89 \n",
        " 248.742  252.362  249.451  253.807     250.781  253.53   252.845  258.445\n",
        " 240.023  245.469  243.189  249.09      243.067  238.108  249.475  251.133\n",
        " 242.437  247.827  244.048  240.95      239.412  239.211  248.914  249.593"
       ]
      }
     ],
     "prompt_number": 3
    },
    {
     "cell_type": "code",
     "collapsed": false,
     "input": [],
     "language": "python",
     "metadata": {},
     "outputs": []
    }
   ],
   "metadata": {}
  }
 ]
}