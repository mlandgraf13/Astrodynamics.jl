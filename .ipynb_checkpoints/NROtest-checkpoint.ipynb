{
 "cells": [
  {
   "cell_type": "code",
   "execution_count": 1,
   "metadata": {
    "collapsed": false
   },
   "outputs": [
    {
     "name": "stderr",
     "output_type": "stream",
     "text": [
      "INFO: Loading help data...\n"
     ]
    }
   ],
   "source": [
    "using Astrodynamics;\n",
    "using jspice;\n",
    "using ODE;\n",
    "using DerIMDEX;\n",
    "using PyPlot;\n",
    "jsinit();"
   ]
  },
  {
   "cell_type": "code",
   "execution_count": 2,
   "metadata": {
    "collapsed": false
   },
   "outputs": [
    {
     "data": {
      "text/plain": [
       "1738.0"
      ]
     },
     "execution_count": 2,
     "metadata": {},
     "output_type": "execute_result"
    }
   ],
   "source": [
    "mu=planets[\"moon\"][\"mu\"]\n",
    "RM=planets[\"moon\"][\"rp\"]"
   ]
  },
  {
   "cell_type": "code",
   "execution_count": 3,
   "metadata": {
    "collapsed": false
   },
   "outputs": [
    {
     "data": {
      "text/plain": [
       "7305.0"
      ]
     },
     "execution_count": 3,
     "metadata": {},
     "output_type": "execute_result"
    }
   ],
   "source": [
    "t0=julian(2020,1,1,0,0,0)"
   ]
  },
  {
   "cell_type": "code",
   "execution_count": 4,
   "metadata": {
    "collapsed": false
   },
   "outputs": [
    {
     "data": {
      "text/plain": [
       "6-element Array{Float64,1}:\n",
       " 390186.0     \n",
       " -76522.6     \n",
       " -70724.7     \n",
       "      0.248728\n",
       "      0.872461\n",
       "      0.340065"
      ]
     },
     "execution_count": 4,
     "metadata": {},
     "output_type": "execute_result"
    }
   ],
   "source": [
    "sM=jpleph(t0,\"Moon\",\"Earth\")"
   ]
  },
  {
   "cell_type": "code",
   "execution_count": 5,
   "metadata": {
    "collapsed": false
   },
   "outputs": [
    {
     "data": {
      "text/plain": [
       "0.9687409589775386"
      ]
     },
     "execution_count": 5,
     "metadata": {},
     "output_type": "execute_result"
    }
   ],
   "source": [
    "DU=norm(sM[1:3])\n",
    "om=norm(cross(sM[1:3],sM[4:6]))/DU^2\n",
    "VU=om*DU"
   ]
  },
  {
   "cell_type": "code",
   "execution_count": 6,
   "metadata": {
    "collapsed": false
   },
   "outputs": [
    {
     "data": {
      "text/plain": [
       "75000.0"
      ]
     },
     "execution_count": 6,
     "metadata": {},
     "output_type": "execute_result"
    }
   ],
   "source": [
    "rp=4000.\n",
    "ra=75000."
   ]
  },
  {
   "cell_type": "code",
   "execution_count": 7,
   "metadata": {
    "collapsed": false
   },
   "outputs": [
    {
     "data": {
      "text/plain": [
       "39500.0"
      ]
     },
     "execution_count": 7,
     "metadata": {},
     "output_type": "execute_result"
    }
   ],
   "source": [
    "a=.5(ra+rp)"
   ]
  },
  {
   "cell_type": "code",
   "execution_count": 10,
   "metadata": {
    "collapsed": false
   },
   "outputs": [
    {
     "data": {
      "text/plain": [
       "0.009904433954948775"
      ]
     },
     "execution_count": 10,
     "metadata": {},
     "output_type": "execute_result"
    }
   ],
   "source": [
    "v0=sqrt(mu*(2/rp-1/a))/VU\n",
    "x0=-600/DU\n",
    "z0=rp/DU"
   ]
  },
  {
   "cell_type": "code",
   "execution_count": 11,
   "metadata": {
    "collapsed": false
   },
   "outputs": [
    {
     "data": {
      "text/plain": [
       "6-element Array{Float64,1}:\n",
       " 0.998514  \n",
       " 0.0       \n",
       " 0.00990443\n",
       " 0.0       \n",
       " 1.57477   \n",
       " 0.0       "
      ]
     },
     "execution_count": 11,
     "metadata": {},
     "output_type": "execute_result"
    }
   ],
   "source": [
    "s0rot=[1+x0;0;z0;0;v0;0]"
   ]
  },
  {
   "cell_type": "code",
   "execution_count": 12,
   "metadata": {
    "collapsed": false
   },
   "outputs": [
    {
     "data": {
      "text/plain": [
       "6-element Array{Float64,1}:\n",
       " 389971.0     \n",
       " -77945.2     \n",
       " -66945.0     \n",
       "      0.601581\n",
       "      2.25233 \n",
       "      0.88193 "
      ]
     },
     "execution_count": 12,
     "metadata": {},
     "output_type": "execute_result"
    }
   ],
   "source": [
    "s0=emrotpulse2eci(s0rot,t0)"
   ]
  },
  {
   "cell_type": "code",
   "execution_count": 13,
   "metadata": {
    "collapsed": true
   },
   "outputs": [],
   "source": [
    "et0=(t0-julian(2000,1,1,12,0,0,\"2000\"))*86400;\n",
    "dt2=7.0;\n",
    "et1=et0+dt2*86400;"
   ]
  },
  {
   "cell_type": "code",
   "execution_count": 14,
   "metadata": {
    "collapsed": false
   },
   "outputs": [],
   "source": [
    "traj=ode45(der,s0,[et0;et1]);\n",
    "n=length(traj[1]);\n",
    "x=[traj[2][j][1] for j=1:n];\n",
    "y=[traj[2][j][2] for j=1:n];\n",
    "z=[traj[2][j][3] for j=1:n];\n",
    "s_eci=[traj[2][j][1:6] for j=1:n];\n",
    "t_mjd2k=traj[1]/86400+0.5;\n",
    "s_rot=[eci2emrotpulse(s_eci[j],t_mjd2k[j]) for j=1:n];"
   ]
  },
  {
   "cell_type": "code",
   "execution_count": 15,
   "metadata": {
    "collapsed": false
   },
   "outputs": [],
   "source": [
    "xr=[s_rot[j][1] for j=1:n];\n",
    "yr=[s_rot[j][2] for j=1:n];\n",
    "zr=[s_rot[j][3] for j=1:n];\n",
    "vxr=[s_rot[j][4] for j=1:n];\n",
    "vyr=[s_rot[j][5] for j=1:n];\n",
    "vzr=[s_rot[j][6] for j=1:n];"
   ]
  },
  {
   "cell_type": "code",
   "execution_count": 16,
   "metadata": {
    "collapsed": true
   },
   "outputs": [],
   "source": [
    "pygui(true);"
   ]
  },
  {
   "cell_type": "code",
   "execution_count": 18,
   "metadata": {
    "collapsed": false
   },
   "outputs": [
    {
     "name": "stderr",
     "output_type": "stream",
     "text": [
      "2015-05-30 18:43:04.209 julia[24053:6293939] setCanCycle: is deprecated.  Please use setCollectionBehavior instead\n",
      "2015-05-30 18:43:04.216 julia[24053:6293939] setCanCycle: is deprecated.  Please use setCollectionBehavior instead\n",
      "2015-05-30 18:43:09.713 julia[24053:6293939] setCanCycle: is deprecated.  Please use setCollectionBehavior instead\n",
      "2015-05-30 18:43:09.715 julia[24053:6293939] setCanCycle: is deprecated.  Please use setCollectionBehavior instead\n",
      "2015-05-30 18:43:10.002 julia[24053:6293939] setCanCycle: is deprecated.  Please use setCollectionBehavior instead\n",
      "2015-05-30 18:43:10.004 julia[24053:6293939] setCanCycle: is deprecated.  Please use setCollectionBehavior instead\n"
     ]
    }
   ],
   "source": [
    "frlin=plot3D(xr,yr,zr);\n",
    "axis(\"equal\");\n",
    "xlabel(\"\\$x_{\\\\rm rot}\\\\ [10^4 {\\\\rm km}]\\$\");\n",
    "ylabel(\"\\$y_{\\\\rm rot}\\\\ [10^4 {\\\\rm km}]\\$\");\n",
    "zlabel(\"\\$z_{\\\\rm rot}\\\\ [10^4 {\\\\rm km}]\\$\");\n",
    "grid(true);"
   ]
  },
  {
   "cell_type": "code",
   "execution_count": 16,
   "metadata": {
    "collapsed": false
   },
   "outputs": [
    {
     "data": {
      "text/plain": [
       "0.04952216977474387"
      ]
     },
     "execution_count": 16,
     "metadata": {},
     "output_type": "execute_result"
    }
   ],
   "source": [
    "2e4/DU"
   ]
  },
  {
   "cell_type": "code",
   "execution_count": 20,
   "metadata": {
    "collapsed": false
   },
   "outputs": [
    {
     "data": {
      "image/png": "[encoded data removed]",
      "text/plain": [
       "Figure(PyObject <matplotlib.figure.Figure object at 0x1197f7910>)"
      ]
     },
     "metadata": {},
     "output_type": "display_data"
    }
   ],
   "source": [
    "pygui(false);\n",
    "plot(xr,zr);\n",
    "axis(\"equal\");"
   ]
  },
  {
   "cell_type": "code",
   "execution_count": 21,
   "metadata": {
    "collapsed": false
   },
   "outputs": [
    {
     "data": {
      "image/png": "[encoded data removed]",
      "text/plain": [
       "Figure(PyObject <matplotlib.figure.Figure object at 0x10d51d350>)"
      ]
     },
     "metadata": {},
     "output_type": "display_data"
    }
   ],
   "source": [
    "pygui(false);\n",
    "plot(yr,zr);\n",
    "axis(\"equal\");"
   ]
  },
  {
   "cell_type": "code",
   "execution_count": null,
   "metadata": {
    "collapsed": true
   },
   "outputs": [],
   "source": []
  }
 ],
 "metadata": {
  "kernelspec": {
   "display_name": "Julia 0.3.8",
   "language": "julia",
   "name": "julia-0.3"
  },
  "language_info": {
   "name": "julia",
   "version": "0.3.8"
  }
 },
 "nbformat": 4,
 "nbformat_minor": 0
}
