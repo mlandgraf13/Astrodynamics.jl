{
 "metadata": {
  "language": "Julia",
  "name": ""
 },
 "nbformat": 3,
 "nbformat_minor": 0,
 "worksheets": [
  {
   "cells": [
    {
     "cell_type": "code",
     "collapsed": false,
     "input": [
      ";cd ~/projects/IMDEX/Astrodynamics.jl;\n",
      "using PyPlot\n",
      "using Astrodynamics\n",
      "using DerIMDEX\n",
      "using ODE\n",
      "using jspice"
     ],
     "language": "python",
     "metadata": {},
     "outputs": [
      {
       "output_type": "stream",
       "stream": "stdout",
       "text": [
        "/Users/mlandgraf/projects/IMDEX/Astrodynamics.jl\n"
       ]
      },
      {
       "output_type": "stream",
       "stream": "stdout",
       "text": [
        "Loading help data...\n"
       ]
      }
     ],
     "prompt_number": 1
    },
    {
     "cell_type": "code",
     "collapsed": false,
     "input": [
      "include(\"traj.jl\");"
     ],
     "language": "python",
     "metadata": {},
     "outputs": [],
     "prompt_number": 1
    },
    {
     "cell_type": "code",
     "collapsed": false,
     "input": [
      "jsinit();"
     ],
     "language": "python",
     "metadata": {},
     "outputs": [],
     "prompt_number": 1
    },
    {
     "cell_type": "code",
     "collapsed": false,
     "input": [
      "@time frinc([0;0;0])*180/pi"
     ],
     "language": "python",
     "metadata": {},
     "outputs": [
      {
       "output_type": "stream",
       "stream": "stderr",
       "text": [
        "Warning: Possible conflict in library symbol dgesdd_\n"
       ]
      },
      {
       "output_type": "stream",
       "stream": "stdout",
       "text": [
        "elapsed time: 1"
       ]
      },
      {
       "output_type": "stream",
       "stream": "stdout",
       "text": [
        ".750305117 seconds (107583488 bytes allocated)\n"
       ]
      },
      {
       "metadata": {},
       "output_type": "pyout",
       "prompt_number": 2,
       "text": [
        "153.30279668494416"
       ]
      }
     ],
     "prompt_number": 2
    },
    {
     "cell_type": "code",
     "collapsed": false,
     "input": [
      "traj=frtraj();"
     ],
     "language": "python",
     "metadata": {},
     "outputs": [
      {
       "metadata": {},
       "output_type": "display_data",
       "text": [
        "4-element Array{Float64,1}:\n",
        " 1900.14\n",
        " 1871.68\n",
        " 1884.93\n",
        " 1928.83"
       ]
      },
      {
       "metadata": {},
       "output_type": "display_data",
       "text": [
        "4-element Array{Float64,1}:\n",
        " -0.192876\n",
        "  0.10226 \n",
        "  0.363099\n",
        "  0.59508 "
       ]
      },
      {
       "metadata": {},
       "output_type": "display_data",
       "text": [
        "6.0590024138512515"
       ]
      },
      {
       "metadata": {},
       "output_type": "display_data",
       "text": [
        "6.283185307179586"
       ]
      },
      {
       "metadata": {},
       "output_type": "display_data",
       "text": [
        "363.9776588068165"
       ]
      },
      {
       "metadata": {},
       "output_type": "display_data",
       "text": [
        "404.0984766092766"
       ]
      },
      {
       "metadata": {},
       "output_type": "display_data",
       "text": [
        "119294.70569987816"
       ]
      },
      {
       "metadata": {},
       "output_type": "display_data",
       "text": [
        "4-element Array{Float64,1}:\n",
        " 360613.0\n",
        " 360639.0\n",
        " 360637.0\n",
        " 360615.0"
       ]
      },
      {
       "metadata": {},
       "output_type": "display_data",
       "text": [
        "4-element Array{Float64,1}:\n",
        "  0.178737\n",
        " -0.013326\n",
        " -0.183313\n",
        " -0.334735"
       ]
      },
      {
       "metadata": {},
       "output_type": "display_data",
       "text": [
        "0.3729412507694481"
       ]
      },
      {
       "metadata": {},
       "output_type": "display_data",
       "text": [
        "0.0"
       ]
      },
      {
       "metadata": {},
       "output_type": "display_data",
       "text": [
        "0.0004662678788817168"
       ]
      },
      {
       "metadata": {},
       "output_type": "display_data",
       "text": [
        "0.0"
       ]
      },
      {
       "metadata": {},
       "output_type": "display_data",
       "text": [
        "-87519.17091297398"
       ]
      },
      {
       "output_type": "stream",
       "stream": "stderr",
       "text": [
        "Warning: Possible conflict in library symbol dtrtri_\n",
        "Warning: Possible conflict in library symbol dgetri_\n",
        "Warning: Possible conflict in library symbol dgetrf_\n",
        "Warning: Possible conflict in library symbol dgesdd_\n"
       ]
      }
     ],
     "prompt_number": 1
    },
    {
     "cell_type": "code",
     "collapsed": false,
     "input": [
      "r=sqrt(diag(traj[2][:,1:3]*traj[2][:,1:3]'));"
     ],
     "language": "python",
     "metadata": {},
     "outputs": [],
     "prompt_number": 1
    },
    {
     "cell_type": "code",
     "collapsed": false,
     "input": [
      "t=traj[1];"
     ],
     "language": "python",
     "metadata": {},
     "outputs": [],
     "prompt_number": 1
    },
    {
     "cell_type": "code",
     "collapsed": false,
     "input": [
      "plot(t/86400,r);"
     ],
     "language": "python",
     "metadata": {},
     "outputs": [
      {
       "metadata": {},
       "output_type": "display_data",
       "png": "[encoded data removed]",
       "text": [
        "Figure(PyObject <matplotlib.figure.Figure object at 0x10ca8d610>)"
       ]
      },
      {
       "output_type": "stream",
       "stream": "stderr",
       "text": [
        "Warning: Possible conflict in library symbol dgesdd_\n"
       ]
      }
     ],
     "prompt_number": 1
    },
    {
     "cell_type": "code",
     "collapsed": false,
     "input": [
      "asin(sin(2pi))"
     ],
     "language": "python",
     "metadata": {},
     "outputs": [
      {
       "metadata": {},
       "output_type": "pyout",
       "prompt_number": 3,
       "text": [
        "-2.4492935982947064e-16"
       ]
      }
     ],
     "prompt_number": 3
    },
    {
     "cell_type": "code",
     "collapsed": false,
     "input": [],
     "language": "python",
     "metadata": {},
     "outputs": []
    }
   ],
   "metadata": {}
  }
 ]
}