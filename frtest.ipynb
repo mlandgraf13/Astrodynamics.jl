{
 "metadata": {
  "language": "Julia",
  "name": ""
 },
 "nbformat": 3,
 "nbformat_minor": 0,
 "worksheets": [
  {
   "cells": [
    {
     "cell_type": "code",
     "collapsed": false,
     "input": [
      "using Astrodynamics\n",
      "using DerIMDEX\n",
      "using ODE\n",
      "using jspice"
     ],
     "language": "python",
     "metadata": {},
     "outputs": [],
     "prompt_number": 1
    },
    {
     "cell_type": "code",
     "collapsed": false,
     "input": [
      "mu=planets[\"earth\"][\"mu\"]\n",
      "RE=planets[\"earth\"][\"re\"]"
     ],
     "language": "python",
     "metadata": {},
     "outputs": [
      {
       "metadata": {},
       "output_type": "pyout",
       "prompt_number": 2,
       "text": [
        "6378.1363"
       ]
      }
     ],
     "prompt_number": 2
    },
    {
     "cell_type": "code",
     "collapsed": false,
     "input": [
      "hp=185\n",
      "inc=28.5*pi/180\n",
      "e=0.974870368\n",
      "node=84.38187*pi/180\n",
      "argp=-129.39172*pi/180\n",
      "jd0=2458119.21800\n",
      "dt=5.23359"
     ],
     "language": "python",
     "metadata": {},
     "outputs": [
      {
       "metadata": {},
       "output_type": "pyout",
       "prompt_number": 3,
       "text": [
        "5.23359"
       ]
      }
     ],
     "prompt_number": 3
    },
    {
     "cell_type": "code",
     "collapsed": false,
     "input": [
      "rp=hp+RE"
     ],
     "language": "python",
     "metadata": {},
     "outputs": [
      {
       "metadata": {},
       "output_type": "pyout",
       "prompt_number": 4,
       "text": [
        "6563.1363"
       ]
      }
     ],
     "prompt_number": 4
    },
    {
     "cell_type": "code",
     "collapsed": false,
     "input": [
      "a=rp/(1-e)"
     ],
     "language": "python",
     "metadata": {},
     "outputs": [
      {
       "metadata": {},
       "output_type": "pyout",
       "prompt_number": 5,
       "text": [
        "261171.20616808123"
       ]
      }
     ],
     "prompt_number": 5
    },
    {
     "cell_type": "code",
     "collapsed": false,
     "input": [
      "el=[a;e;inc;node;argp;0]"
     ],
     "language": "python",
     "metadata": {},
     "outputs": [
      {
       "metadata": {},
       "output_type": "pyout",
       "prompt_number": 6,
       "text": [
        "6-element Array{Float64,1}:\n",
        " 261171.0     \n",
        "      0.97487 \n",
        "      0.497419\n",
        "      1.47274 \n",
        "     -2.25831 \n",
        "      0.0     "
       ]
      }
     ],
     "prompt_number": 6
    },
    {
     "cell_type": "code",
     "collapsed": false,
     "input": [
      "x0=cartesian(el,planets[\"earth\"][\"mu\"])"
     ],
     "language": "python",
     "metadata": {},
     "outputs": [
      {
       "metadata": {},
       "output_type": "pyout",
       "prompt_number": 7,
       "text": [
        "6-element Array{Float64,1}:\n",
        "  4028.33   \n",
        " -4581.46   \n",
        " -2420.22   \n",
        "     6.90717\n",
        "     7.82516\n",
        "    -3.31633"
       ]
      }
     ],
     "prompt_number": 7
    },
    {
     "cell_type": "code",
     "collapsed": false,
     "input": [
      "gregorian(jd0,\"jd\")"
     ],
     "language": "python",
     "metadata": {},
     "outputs": [
      {
       "metadata": {},
       "output_type": "pyout",
       "prompt_number": 8,
       "text": [
        "(2017,12,31,17,13,55.1999893784523)"
       ]
      }
     ],
     "prompt_number": 8
    },
    {
     "cell_type": "code",
     "collapsed": false,
     "input": [
      "et0=(jd0-julian(2000,1,1,0,0,0,\"jd\"))*86400"
     ],
     "language": "python",
     "metadata": {},
     "outputs": [
      {
       "metadata": {},
       "output_type": "pyout",
       "prompt_number": 9,
       "text": [
        "5.680556351999893e8"
       ]
      }
     ],
     "prompt_number": 9
    },
    {
     "cell_type": "code",
     "collapsed": false,
     "input": [
      "et1=et0+dt*86400"
     ],
     "language": "python",
     "metadata": {},
     "outputs": [
      {
       "metadata": {},
       "output_type": "pyout",
       "prompt_number": 10,
       "text": [
        "5.685078173759893e8"
       ]
      }
     ],
     "prompt_number": 10
    },
    {
     "cell_type": "code",
     "collapsed": false,
     "input": [
      "jsinit()"
     ],
     "language": "python",
     "metadata": {},
     "outputs": [],
     "prompt_number": 11
    },
    {
     "cell_type": "code",
     "collapsed": false,
     "input": [
      "traj=ode45(der,[et0;et1],x0)"
     ],
     "language": "python",
     "metadata": {},
     "outputs": [
      {
       "ename": "LoadError",
       "evalue": "type: der: in apply, expected Function, got Array{Float64,1}\nat In[12]:1",
       "output_type": "pyerr",
       "traceback": [
        "type: der: in apply, expected Function, got Array{Float64,1}\nat In[12]:1",
        " in der at /Users/mlandgraf/projects/IMDEX/jspice/DerIMDEX.jl:39",
        " in oderkf at /Users/mlandgraf/projects/IMDEX/jspice/ODE.jl:218",
        " in ode45_dp at /Users/mlandgraf/projects/IMDEX/jspice/ODE.jl:281"
       ]
      }
     ],
     "prompt_number": 12
    },
    {
     "cell_type": "code",
     "collapsed": false,
     "input": [
      "methods(der)"
     ],
     "language": "python",
     "metadata": {},
     "outputs": [
      {
       "metadata": {},
       "output_type": "pyout",
       "prompt_number": 14,
       "text": [
        "# 1 method for generic function \"der\":\n",
        "der(t,x) at /Users/mlandgraf/projects/IMDEX/jspice/DerIMDEX.jl:22"
       ]
      }
     ],
     "prompt_number": 14
    },
    {
     "cell_type": "code",
     "collapsed": false,
     "input": [],
     "language": "python",
     "metadata": {},
     "outputs": []
    }
   ],
   "metadata": {}
  }
 ]
}