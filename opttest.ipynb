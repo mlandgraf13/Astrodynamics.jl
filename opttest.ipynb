{
 "metadata": {
  "language": "Julia",
  "name": ""
 },
 "nbformat": 3,
 "nbformat_minor": 0,
 "worksheets": [
  {
   "cells": [
    {
     "cell_type": "code",
     "collapsed": false,
     "input": [
      "@everywhere begin\n",
      "    ;cd ~/projects/IMDEX/Astrodynamics.jl;\n",
      "#    using PyPlot\n",
      "    using Astrodynamics\n",
      "    using DerIMDEX\n",
      "    using ODE\n",
      "    using jspice\n",
      "    using NLopt\n",
      "    include(\"traj.jl\");\n",
      "    jsinit();\n",
      "end"
     ],
     "language": "python",
     "metadata": {},
     "outputs": [
      {
       "output_type": "stream",
       "stream": "stdout",
       "text": [
        "/Users/mlandgraf/projects/IMDEX/Astrodynamics.jl\n"
       ]
      }
     ],
     "prompt_number": 1
    },
    {
     "cell_type": "code",
     "collapsed": false,
     "input": [
      "fingrd(frconstr,zeros(9))"
     ],
     "language": "python",
     "metadata": {},
     "outputs": [
      {
       "metadata": {},
       "output_type": "pyout",
       "prompt_number": 4,
       "text": [
        "2x9 Array{Float64,2}:\n",
        "   1.32173e6  112970.0      -1.91435e6  \u2026  -33562.9        23702.1    \n",
        " -64.0772         79.3027  -96.0784             0.0528482      2.43698"
       ]
      },
      {
       "output_type": "stream",
       "stream": "stderr",
       "text": [
        "Warning: Possible conflict in library symbol dgesdd_\n"
       ]
      }
     ],
     "prompt_number": 4
    },
    {
     "cell_type": "code",
     "collapsed": false,
     "input": [
      "frconstgrd(x)=fingrd(frconstr,x);"
     ],
     "language": "python",
     "metadata": {},
     "outputs": [],
     "prompt_number": 4
    },
    {
     "cell_type": "code",
     "collapsed": false,
     "input": [
      "@time frconstgrd(zeros(9))"
     ],
     "language": "python",
     "metadata": {},
     "outputs": [
      {
       "output_type": "stream",
       "stream": "stdout",
       "text": [
        "elapsed time: 2"
       ]
      },
      {
       "output_type": "stream",
       "stream": "stdout",
       "text": [
        ".320806682 seconds (501027616 bytes allocated)\n"
       ]
      },
      {
       "metadata": {},
       "output_type": "pyout",
       "prompt_number": 6,
       "text": [
        "2x9 Array{Float64,2}:\n",
        "   1.32173e6  112970.0      -1.91435e6  \u2026  -33562.9        23702.1    \n",
        " -64.0772         79.3027  -96.0784             0.0528482      2.43698"
       ]
      }
     ],
     "prompt_number": 6
    },
    {
     "cell_type": "code",
     "collapsed": false,
     "input": [
      "opt=Opt(:LD_MMA,9)"
     ],
     "language": "python",
     "metadata": {},
     "outputs": [
      {
       "metadata": {},
       "output_type": "pyout",
       "prompt_number": 4,
       "text": [
        "Opt(:LD_MMA, 9)"
       ]
      }
     ],
     "prompt_number": 4
    },
    {
     "cell_type": "code",
     "collapsed": false,
     "input": [
      "min_objective!(opt,frcost)"
     ],
     "language": "python",
     "metadata": {},
     "outputs": [],
     "prompt_number": 5
    },
    {
     "cell_type": "code",
     "collapsed": false,
     "input": [
      "rptarget=planets[\"earth\"][\"re\"]+50\n",
      "inctarget=40*pi/180"
     ],
     "language": "python",
     "metadata": {},
     "outputs": [
      {
       "metadata": {},
       "output_type": "pyout",
       "prompt_number": 6,
       "text": [
        "0.6981317007977318"
       ]
      }
     ],
     "prompt_number": 6
    },
    {
     "cell_type": "code",
     "collapsed": false,
     "input": [
      "function constr(c,x,g)\n",
      "    frconstr(c,x,g,rptarget,inctarget)\n",
      "end"
     ],
     "language": "python",
     "metadata": {},
     "outputs": [
      {
       "metadata": {},
       "output_type": "pyout",
       "prompt_number": 8,
       "text": [
        "constr (generic function with 1 method)"
       ]
      }
     ],
     "prompt_number": 8
    },
    {
     "cell_type": "code",
     "collapsed": false,
     "input": [
      "equality_constraint!(opt,constr,1e-8*ones(2))"
     ],
     "language": "python",
     "metadata": {},
     "outputs": [
      {
       "ename": "LoadError",
       "evalue": "ArgumentError(\"invalid NLopt arguments\")\nat In[10]:1",
       "output_type": "pyerr",
       "traceback": [
        "ArgumentError(\"invalid NLopt arguments\")\nat In[10]:1",
        " in chk at /Users/mlandgraf/.julia/NLopt/src/NLopt.jl:217",
        " in chkn at /Users/mlandgraf/.julia/NLopt/src/NLopt.jl:235",
        " in equality_constraint! at /Users/mlandgraf/.julia/NLopt/src/NLopt.jl:468"
       ]
      }
     ],
     "prompt_number": 10
    },
    {
     "cell_type": "code",
     "collapsed": false,
     "input": [
      "c=ones(2)\n",
      "grad=zeros(9,2)\n",
      "frconstr(c,zeros(9),grad)"
     ],
     "language": "python",
     "metadata": {},
     "outputs": [
      {
       "metadata": {},
       "output_type": "pyout",
       "prompt_number": 2,
       "text": [
        "0.610302439039869"
       ]
      }
     ],
     "prompt_number": 2
    },
    {
     "cell_type": "code",
     "collapsed": false,
     "input": [
      "grad"
     ],
     "language": "python",
     "metadata": {},
     "outputs": [
      {
       "metadata": {},
       "output_type": "pyout",
       "prompt_number": 3,
       "text": [
        "9x2 Array{Float64,2}:\n",
        "      1.32173e6  -64.0772   \n",
        " 112970.0         79.3027   \n",
        "     -1.91435e6  -96.0784   \n",
        " -88718.3          4.9959   \n",
        " -80247.9          3.78148  \n",
        " -19646.4          2.96364  \n",
        " -33005.6          1.71783  \n",
        " -33562.9          0.0528482\n",
        "  23702.1          2.43698  "
       ]
      },
      {
       "output_type": "stream",
       "stream": "stderr",
       "text": [
        "Warning: Possible conflict in library symbol dgesdd_\n"
       ]
      }
     ],
     "prompt_number": 3
    }
   ],
   "metadata": {}
  }
 ]
}