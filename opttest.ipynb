{
 "metadata": {
  "language": "Julia",
  "name": ""
 },
 "nbformat": 3,
 "nbformat_minor": 0,
 "worksheets": [
  {
   "cells": [
    {
     "cell_type": "code",
     "collapsed": false,
     "input": [
      "@everywhere begin\n",
      "    ;cd ~/projects/IMDEX/Astrodynamics.jl;\n",
      "#    using PyPlot\n",
      "    using Astrodynamics\n",
      "    using DerIMDEX\n",
      "    using ODE\n",
      "    using jspice\n",
      "    using NLopt\n",
      "    include(\"traj.jl\");\n",
      "    jsinit();\n",
      "end"
     ],
     "language": "python",
     "metadata": {},
     "outputs": [
      {
       "output_type": "stream",
       "stream": "stdout",
       "text": [
        "/Users/mlandgraf/projects/IMDEX/Astrodynamics.jl\n"
       ]
      }
     ],
     "prompt_number": 1
    },
    {
     "cell_type": "code",
     "collapsed": false,
     "input": [
      "opt=Opt(:LD_MMA,9)\n",
      "lower_bounds!(opt, -20.*ones(9))\n",
      "upper_bounds!(opt, 20.*ones(9))\n",
      "xtol_rel!(opt,1e-4)"
     ],
     "language": "python",
     "metadata": {},
     "outputs": [],
     "prompt_number": 2
    },
    {
     "cell_type": "code",
     "collapsed": false,
     "input": [
      "min_objective!(opt,frcost)"
     ],
     "language": "python",
     "metadata": {},
     "outputs": [],
     "prompt_number": 3
    },
    {
     "cell_type": "code",
     "collapsed": false,
     "input": [
      "rptarget=planets[\"earth\"][\"re\"]+50\n",
      "inctarget=40*pi/180"
     ],
     "language": "python",
     "metadata": {},
     "outputs": [
      {
       "metadata": {},
       "output_type": "pyout",
       "prompt_number": 4,
       "text": [
        "0.6981317007977318"
       ]
      }
     ],
     "prompt_number": 4
    },
    {
     "cell_type": "code",
     "collapsed": false,
     "input": [
      "inequality_constraint!(opt,(c,x,g)->frconstr(c,x,g,rptarget,inctarget),1e-8*ones(2))\n",
      "inequality_constraint!(opt,(c,x,g)->-frconstr(c,x,g,rptarget,inctarget),1e-8*ones(2))"
     ],
     "language": "python",
     "metadata": {},
     "outputs": [],
     "prompt_number": 5
    },
    {
     "cell_type": "code",
     "collapsed": false,
     "input": [
      "count=0\n",
      "@time (dv,dvvec,ret)=optimize(opt,dvvec)\n",
      "ret"
     ],
     "language": "python",
     "metadata": {},
     "outputs": [
      {
       "output_type": "stream",
       "stream": "stdout",
       "text": [
        "elapsed time: 393"
       ]
      },
      {
       "output_type": "stream",
       "stream": "stdout",
       "text": [
        ".362424307 seconds (81837324440 bytes allocated)\n"
       ]
      },
      {
       "metadata": {},
       "output_type": "pyout",
       "prompt_number": 9,
       "text": [
        ":XTOL_REACHED"
       ]
      }
     ],
     "prompt_number": 9
    },
    {
     "cell_type": "code",
     "collapsed": false,
     "input": [
      "dvvec"
     ],
     "language": "python",
     "metadata": {},
     "outputs": [
      {
       "metadata": {},
       "output_type": "pyout",
       "prompt_number": 7,
       "text": [
        "9-element Array{Float64,1}:\n",
        "  -9.40815\n",
        " -13.6159 \n",
        " -10.845  \n",
        " -18.2483 \n",
        " -18.5983 \n",
        " -16.3528 \n",
        " -17.231  \n",
        " -17.2943 \n",
        " -14.9141 "
       ]
      }
     ],
     "prompt_number": 7
    },
    {
     "cell_type": "code",
     "collapsed": false,
     "input": [
      "c=zeros(2)\n",
      "frconstr(c,dvvec,[],rptarget,inctarget)\n",
      "c"
     ],
     "language": "python",
     "metadata": {},
     "outputs": [
      {
       "metadata": {},
       "output_type": "pyout",
       "prompt_number": 8,
       "text": [
        "2-element Array{Float64,1}:\n",
        " -66.0091  \n",
        "  -0.020234"
       ]
      }
     ],
     "prompt_number": 8
    },
    {
     "cell_type": "code",
     "collapsed": false,
     "input": [
      "c"
     ],
     "language": "python",
     "metadata": {},
     "outputs": [
      {
       "metadata": {},
       "output_type": "pyout",
       "prompt_number": 21,
       "text": [
        "2-element Array{Float64,1}:\n",
        " -1692.59     \n",
        "    -0.0367109"
       ]
      }
     ],
     "prompt_number": 21
    },
    {
     "cell_type": "code",
     "collapsed": false,
     "input": [],
     "language": "python",
     "metadata": {},
     "outputs": [],
     "prompt_number": 10
    }
   ],
   "metadata": {}
  }
 ]
}