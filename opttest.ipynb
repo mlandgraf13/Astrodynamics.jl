{
 "metadata": {
  "language": "Julia",
  "name": ""
 },
 "nbformat": 3,
 "nbformat_minor": 0,
 "worksheets": [
  {
   "cells": [
    {
     "cell_type": "code",
     "collapsed": false,
     "input": [
      "@everywhere begin\n",
      "    ;cd ~/projects/IMDEX/Astrodynamics.jl;\n",
      "    using PyPlot\n",
      "    using Astrodynamics\n",
      "    using DerIMDEX\n",
      "    using ODE\n",
      "    using jspice\n",
      "    using NLopt\n",
      "    include(\"traj.jl\");\n",
      "    jsinit();\n",
      "end"
     ],
     "language": "python",
     "metadata": {},
     "outputs": [
      {
       "output_type": "stream",
       "stream": "stdout",
       "text": [
        "/Users/mlandgraf/projects/IMDEX/Astrodynamics.jl\n"
       ]
      }
     ],
     "prompt_number": 5
    },
    {
     "cell_type": "code",
     "collapsed": false,
     "input": [
      "methods(frconstr)"
     ],
     "language": "python",
     "metadata": {},
     "outputs": [
      {
       "metadata": {},
       "output_type": "pyout",
       "prompt_number": 2,
       "text": [
        "# 1 method for generic function \"frconstr\":\n",
        "frconstr(x::Array{T,1}) at /Users/mlandgraf/projects/IMDEX/Astrodynamics.jl/traj.jl:137"
       ]
      }
     ],
     "prompt_number": 2
    },
    {
     "cell_type": "code",
     "collapsed": false,
     "input": [
      "frconstr(zeros(9),planets[\"earth\"][\"re\"]+50,40*pi/180)"
     ],
     "language": "python",
     "metadata": {},
     "outputs": [
      {
       "metadata": {},
       "output_type": "pyout",
       "prompt_number": 4,
       "text": [
        "2-element Array{Float64,1}:\n",
        " 411.775    \n",
        "  -0.0878293"
       ]
      }
     ],
     "prompt_number": 4
    },
    {
     "cell_type": "code",
     "collapsed": false,
     "input": [
      "fingrd(frconstr,zeros(9))"
     ],
     "language": "python",
     "metadata": {},
     "outputs": [
      {
       "metadata": {},
       "output_type": "pyout",
       "prompt_number": 4,
       "text": [
        "2x9 Array{Float64,2}:\n",
        "   1.32173e6  112970.0      -1.91435e6  \u2026  -33562.9        23702.1    \n",
        " -64.0772         79.3027  -96.0784             0.0528482      2.43698"
       ]
      },
      {
       "output_type": "stream",
       "stream": "stderr",
       "text": [
        "Warning: Possible conflict in library symbol dgesdd_\n"
       ]
      }
     ],
     "prompt_number": 4
    },
    {
     "cell_type": "code",
     "collapsed": false,
     "input": [
      "frconstgrd(x)=fingrd(frconstr,x);"
     ],
     "language": "python",
     "metadata": {},
     "outputs": [],
     "prompt_number": 4
    },
    {
     "cell_type": "code",
     "collapsed": false,
     "input": [
      "@time frconstgrd(zeros(9))"
     ],
     "language": "python",
     "metadata": {},
     "outputs": [
      {
       "output_type": "stream",
       "stream": "stdout",
       "text": [
        "elapsed time: 2"
       ]
      },
      {
       "output_type": "stream",
       "stream": "stdout",
       "text": [
        ".320806682 seconds (501027616 bytes allocated)\n"
       ]
      },
      {
       "metadata": {},
       "output_type": "pyout",
       "prompt_number": 6,
       "text": [
        "2x9 Array{Float64,2}:\n",
        "   1.32173e6  112970.0      -1.91435e6  \u2026  -33562.9        23702.1    \n",
        " -64.0772         79.3027  -96.0784             0.0528482      2.43698"
       ]
      }
     ],
     "prompt_number": 6
    },
    {
     "cell_type": "code",
     "collapsed": false,
     "input": [
      "opt=Opt(:LD_MMA,9)"
     ],
     "language": "python",
     "metadata": {},
     "outputs": [
      {
       "metadata": {},
       "output_type": "pyout",
       "prompt_number": 6,
       "text": [
        "Opt(:LD_MMA, 9)"
       ]
      }
     ],
     "prompt_number": 6
    },
    {
     "cell_type": "code",
     "collapsed": false,
     "input": [],
     "language": "python",
     "metadata": {},
     "outputs": []
    }
   ],
   "metadata": {}
  }
 ]
}