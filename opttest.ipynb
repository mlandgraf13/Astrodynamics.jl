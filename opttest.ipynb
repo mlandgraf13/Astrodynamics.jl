{
 "metadata": {
  "language": "Julia",
  "name": ""
 },
 "nbformat": 3,
 "nbformat_minor": 0,
 "worksheets": [
  {
   "cells": [
    {
     "cell_type": "code",
     "collapsed": false,
     "input": [
      "@everywhere begin\n",
      "    ;cd ~/projects/IMDEX/Astrodynamics.jl;\n",
      "#    using PyPlot\n",
      "    using Astrodynamics\n",
      "    using DerIMDEX\n",
      "    using ODE\n",
      "    using jspice\n",
      "    using NLopt\n",
      "    include(\"traj.jl\");\n",
      "    jsinit();\n",
      "end"
     ],
     "language": "python",
     "metadata": {},
     "outputs": [
      {
       "output_type": "stream",
       "stream": "stdout",
       "text": [
        "/Users/markuslandgraf/projects/IMDEX/Astrodynamics.jl\n"
       ]
      }
     ],
     "prompt_number": 12
    },
    {
     "cell_type": "code",
     "collapsed": false,
     "input": [
      "opt=Opt(:LD_MMA,9)\n",
      "lower_bounds!(opt, -20.*ones(9))\n",
      "upper_bounds!(opt, 20.*ones(9))\n",
      "xtol_rel!(opt,1e-4)"
     ],
     "language": "python",
     "metadata": {},
     "outputs": [],
     "prompt_number": 13
    },
    {
     "cell_type": "code",
     "collapsed": false,
     "input": [
      "min_objective!(opt,frcost)"
     ],
     "language": "python",
     "metadata": {},
     "outputs": [],
     "prompt_number": 14
    },
    {
     "cell_type": "code",
     "collapsed": false,
     "input": [
      "rptarget=planets[\"earth\"][\"re\"]+50\n",
      "inctarget=40*pi/180"
     ],
     "language": "python",
     "metadata": {},
     "outputs": [
      {
       "metadata": {},
       "output_type": "pyout",
       "prompt_number": 15,
       "text": [
        "0.6981317007977318"
       ]
      }
     ],
     "prompt_number": 15
    },
    {
     "cell_type": "code",
     "collapsed": false,
     "input": [
      "inequality_constraint!(opt,(c,x,g)->frconstr(c,x,g,rptarget,inctarget),1e-8*ones(2))\n",
      "inequality_constraint!(opt,(c,x,g)->-frconstr(c,x,g,rptarget,inctarget),1e-8*ones(2))"
     ],
     "language": "python",
     "metadata": {},
     "outputs": [],
     "prompt_number": 16
    },
    {
     "cell_type": "code",
     "collapsed": false,
     "input": [
      "count=0\n",
      "@time (dv,dvvec,ret)=optimize(opt,zeros(9))\n",
      "ret"
     ],
     "language": "python",
     "metadata": {},
     "outputs": [
      {
       "output_type": "stream",
       "stream": "stdout",
       "text": [
        "elapsed time: 21"
       ]
      },
      {
       "output_type": "stream",
       "stream": "stdout",
       "text": [
        ".073433928 seconds (4548764892 bytes allocated)\n"
       ]
      },
      {
       "metadata": {},
       "output_type": "pyout",
       "prompt_number": 17,
       "text": [
        ":XTOL_REACHED"
       ]
      }
     ],
     "prompt_number": 17
    },
    {
     "cell_type": "code",
     "collapsed": false,
     "input": [
      "dvvec"
     ],
     "language": "python",
     "metadata": {},
     "outputs": [
      {
       "metadata": {},
       "output_type": "pyout",
       "prompt_number": 18,
       "text": [
        "9-element Array{Float64,1}:\n",
        " -11.9392\n",
        " -15.4694\n",
        " -12.4853\n",
        " -20.0   \n",
        " -19.6884\n",
        " -17.3685\n",
        " -20.0   \n",
        " -19.4949\n",
        " -16.6859"
       ]
      }
     ],
     "prompt_number": 18
    },
    {
     "cell_type": "code",
     "collapsed": false,
     "input": [
      "c=zeros(2)\n",
      "frconstr(c,dvvec,[],rptarget,inctarget)\n",
      "c"
     ],
     "language": "python",
     "metadata": {},
     "outputs": [
      {
       "metadata": {},
       "output_type": "pyout",
       "prompt_number": 19,
       "text": [
        "-0.03671094055086055"
       ]
      }
     ],
     "prompt_number": 19
    },
    {
     "cell_type": "code",
     "collapsed": false,
     "input": [
      "c"
     ],
     "language": "python",
     "metadata": {},
     "outputs": [
      {
       "metadata": {},
       "output_type": "pyout",
       "prompt_number": 21,
       "text": [
        "2-element Array{Float64,1}:\n",
        " -1692.59     \n",
        "    -0.0367109"
       ]
      }
     ],
     "prompt_number": 21
    },
    {
     "cell_type": "code",
     "collapsed": false,
     "input": [],
     "language": "python",
     "metadata": {},
     "outputs": [],
     "prompt_number": 10
    }
   ],
   "metadata": {}
  }
 ]
}